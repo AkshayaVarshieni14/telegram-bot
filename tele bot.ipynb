{
 "cells": [
  {
   "cell_type": "code",
   "execution_count": 4,
   "metadata": {},
   "outputs": [],
   "source": [
    "from telegram import Update\n",
    "from telegram.ext import Application, CommandHandler, MessageHandler, filters, CallbackContext\n",
    "import logging\n",
    "import os\n"
   ]
  },
  {
   "cell_type": "code",
   "execution_count": 8,
   "metadata": {},
   "outputs": [
    {
     "name": "stderr",
     "output_type": "stream",
     "text": [
      "2025-03-08 00:41:42,237 - asyncio - ERROR - Task exception was never retrieved\n",
      "future: <Task finished name='Task-9' coro=<main() done, defined at C:\\Users\\hp\\AppData\\Local\\Temp\\ipykernel_5720\\3758310089.py:10> exception=RuntimeError('Cannot close a running event loop')>\n",
      "Traceback (most recent call last):\n",
      "  File \"d:\\conda\\Lib\\site-packages\\telegram\\ext\\_application.py\", line 1087, in __run\n",
      "    loop.run_until_complete(self._bootstrap_initialize(max_retries=bootstrap_retries))\n",
      "  File \"d:\\conda\\Lib\\asyncio\\base_events.py\", line 663, in run_until_complete\n",
      "    self._check_running()\n",
      "  File \"d:\\conda\\Lib\\asyncio\\base_events.py\", line 622, in _check_running\n",
      "    raise RuntimeError('This event loop is already running')\n",
      "RuntimeError: This event loop is already running\n",
      "\n",
      "During handling of the above exception, another exception occurred:\n",
      "\n",
      "Traceback (most recent call last):\n",
      "  File \"d:\\conda\\Lib\\site-packages\\telegram\\ext\\_application.py\", line 1112, in __run\n",
      "    loop.run_until_complete(self.shutdown())\n",
      "  File \"d:\\conda\\Lib\\asyncio\\base_events.py\", line 663, in run_until_complete\n",
      "    self._check_running()\n",
      "  File \"d:\\conda\\Lib\\asyncio\\base_events.py\", line 622, in _check_running\n",
      "    raise RuntimeError('This event loop is already running')\n",
      "RuntimeError: This event loop is already running\n",
      "\n",
      "During handling of the above exception, another exception occurred:\n",
      "\n",
      "Traceback (most recent call last):\n",
      "  File \"C:\\Users\\hp\\AppData\\Local\\Temp\\ipykernel_5720\\3758310089.py\", line 15, in main\n",
      "    await app.run_polling()\n",
      "          ^^^^^^^^^^^^^^^^^\n",
      "  File \"d:\\conda\\Lib\\site-packages\\telegram\\ext\\_application.py\", line 873, in run_polling\n",
      "    return self.__run(\n",
      "           ^^^^^^^^^^^\n",
      "  File \"d:\\conda\\Lib\\site-packages\\telegram\\ext\\_application.py\", line 1117, in __run\n",
      "    loop.close()\n",
      "  File \"d:\\conda\\Lib\\asyncio\\proactor_events.py\", line 687, in close\n",
      "    raise RuntimeError(\"Cannot close a running event loop\")\n",
      "RuntimeError: Cannot close a running event loop\n"
     ]
    },
    {
     "name": "stdout",
     "output_type": "stream",
     "text": [
      "Bot is running...\n"
     ]
    }
   ],
   "source": [
    "import asyncio\n",
    "from telegram import Update\n",
    "from telegram.ext import Application, CommandHandler, CallbackContext\n",
    "\n",
    "TOKEN = \"your_own_API_Token\"  # Replace with your actual bot token\n",
    "\n",
    "async def start(update: Update, context: CallbackContext):\n",
    "    await update.message.reply_text(\"Enter the text you want to show to the user whenever they start the bot\")\n",
    "\n",
    "async def main():\n",
    "    app = Application.builder().token(TOKEN).build()\n",
    "    app.add_handler(CommandHandler(\"start\", start))\n",
    "\n",
    "    print(\"Bot is running...\")\n",
    "    await app.run_polling()\n",
    "\n",
    "# Check if an event loop is already running\n",
    "if __name__ == \"__main__\":\n",
    "    try:\n",
    "        loop = asyncio.get_running_loop()\n",
    "        loop.create_task(main())  # Runs the bot in the background\n",
    "    except RuntimeError:\n",
    "        asyncio.run(main())  # Runs normally if no event loop is active\n"
   ]
  },
  {
   "cell_type": "code",
   "execution_count": 9,
   "metadata": {},
   "outputs": [],
   "source": [
    "def help(update: Update, context: CallbackContext): \n",
    "\tupdate.message.reply_text(\"Your Message\") \n"
   ]
  },
  {
   "cell_type": "code",
   "execution_count": 10,
   "metadata": {},
   "outputs": [],
   "source": [
    "def gmail_url(update: Update, context: CallbackContext): \n",
    "\tupdate.message.reply_text(\"gmail link here\") \n",
    "\n",
    "\n",
    "def youtube_url(update: Update, context: CallbackContext): \n",
    "\tupdate.message.reply_text(\"youtube link\") \n",
    "\n",
    "\n",
    "def linkedIn_url(update: Update, context: CallbackContext): \n",
    "\tupdate.message.reply_text(\"Your linkedin profile url\") \n",
    "\n",
    "\n",
    "def geeks_url(update: Update, context: CallbackContext): \n",
    "\tupdate.message.reply_text(\"GeeksforGeeks url here\") \n",
    "\n",
    "\n",
    "def unknown_text(update: Update, context: CallbackContext): \n",
    "\tupdate.message.reply_text( \n",
    "\t\t\"Sorry I can't recognize you , you said '%s'\" % update.message.text) \n",
    "\n",
    "\n",
    "def unknown(update: Update, context: CallbackContext): \n",
    "\tupdate.message.reply_text( \n",
    "\t\t\"Sorry '%s' is not a valid command\" % update.message.text) \n"
   ]
  },
  {
   "cell_type": "code",
   "execution_count": 14,
   "metadata": {},
   "outputs": [],
   "source": [
    "import warnings\n",
    "warnings.filterwarnings(\"ignore\")\n"
   ]
  },
  {
   "cell_type": "code",
   "execution_count": 15,
   "metadata": {},
   "outputs": [
    {
     "name": "stderr",
     "output_type": "stream",
     "text": [
      "2025-03-08 00:53:21,614 - asyncio - ERROR - Task exception was never retrieved\n",
      "future: <Task finished name='Task-12' coro=<main() done, defined at C:\\Users\\hp\\AppData\\Local\\Temp\\ipykernel_5720\\3000117950.py:30> exception=RuntimeError('Cannot close a running event loop')>\n",
      "Traceback (most recent call last):\n",
      "  File \"d:\\conda\\Lib\\site-packages\\telegram\\ext\\_application.py\", line 1087, in __run\n",
      "    loop.run_until_complete(self._bootstrap_initialize(max_retries=bootstrap_retries))\n",
      "  File \"d:\\conda\\Lib\\asyncio\\base_events.py\", line 663, in run_until_complete\n",
      "    self._check_running()\n",
      "  File \"d:\\conda\\Lib\\asyncio\\base_events.py\", line 622, in _check_running\n",
      "    raise RuntimeError('This event loop is already running')\n",
      "RuntimeError: This event loop is already running\n",
      "\n",
      "During handling of the above exception, another exception occurred:\n",
      "\n",
      "Traceback (most recent call last):\n",
      "  File \"d:\\conda\\Lib\\site-packages\\telegram\\ext\\_application.py\", line 1112, in __run\n",
      "    loop.run_until_complete(self.shutdown())\n",
      "  File \"d:\\conda\\Lib\\asyncio\\base_events.py\", line 663, in run_until_complete\n",
      "    self._check_running()\n",
      "  File \"d:\\conda\\Lib\\asyncio\\base_events.py\", line 622, in _check_running\n",
      "    raise RuntimeError('This event loop is already running')\n",
      "RuntimeError: This event loop is already running\n",
      "\n",
      "During handling of the above exception, another exception occurred:\n",
      "\n",
      "Traceback (most recent call last):\n",
      "  File \"C:\\Users\\hp\\AppData\\Local\\Temp\\ipykernel_5720\\3000117950.py\", line 48, in main\n",
      "    await app.run_polling()\n",
      "          ^^^^^^^^^^^^^^^^^\n",
      "  File \"d:\\conda\\Lib\\site-packages\\telegram\\ext\\_application.py\", line 873, in run_polling\n",
      "    return self.__run(\n",
      "           ^^^^^^^^^^^\n",
      "  File \"d:\\conda\\Lib\\site-packages\\telegram\\ext\\_application.py\", line 1117, in __run\n",
      "    loop.close()\n",
      "  File \"d:\\conda\\Lib\\asyncio\\proactor_events.py\", line 687, in close\n",
      "    raise RuntimeError(\"Cannot close a running event loop\")\n",
      "RuntimeError: Cannot close a running event loop\n"
     ]
    },
    {
     "name": "stdout",
     "output_type": "stream",
     "text": [
      "Bot is running...\n"
     ]
    }
   ],
   "source": [
    "from telegram import Update\n",
    "from telegram.ext import Application, CommandHandler, MessageHandler, filters, CallbackContext\n",
    "\n",
    "TOKEN = \"7887907165:AAHDgf2DcXuVYdoDGUT1fOcEVH-XhoEp5ss\"  # Replace with your actual bot token\n",
    "\n",
    "async def start(update: Update, context: CallbackContext):\n",
    "    await update.message.reply_text(\"Hello mate, how can I help you!?\")\n",
    "\n",
    "async def youtube_url(update: Update, context: CallbackContext):\n",
    "    await update.message.reply_text(\"https://www.youtube.com/\")\n",
    "\n",
    "async def help_command(update: Update, context: CallbackContext):\n",
    "    await update.message.reply_text(\"Help section\")\n",
    "\n",
    "async def linkedIn_url(update: Update, context: CallbackContext):\n",
    "    await update.message.reply_text(\"https://www.linkedin.com\")\n",
    "\n",
    "async def gmail_url(update: Update, context: CallbackContext):\n",
    "    await update.message.reply_text(\"https://www.mail.google.com\")\n",
    "\n",
    "async def geeks_url(update: Update, context: CallbackContext):\n",
    "    await update.message.reply_text(\"http://geeksforgeeks.org/\")\n",
    "\n",
    "async def unknown(update: Update, context: CallbackContext):\n",
    "    await update.message.reply_text(\"Sorry, I didn't understand that command.\")\n",
    "\n",
    "async def unknown_text(update: Update, context: CallbackContext):\n",
    "    await update.message.reply_text(\"Sorry, I don't understand this text.\")\n",
    "\n",
    "async def main():\n",
    "    app = Application.builder().token(TOKEN).build()\n",
    "\n",
    "    # Adding command handlers\n",
    "    app.add_handler(CommandHandler(\"start\", start))\n",
    "    app.add_handler(CommandHandler(\"youtube\", youtube_url))\n",
    "    app.add_handler(CommandHandler(\"help\", help_command))\n",
    "    app.add_handler(CommandHandler(\"linkedin\", linkedIn_url))\n",
    "    app.add_handler(CommandHandler(\"gmail\", gmail_url))\n",
    "    app.add_handler(CommandHandler(\"geeks\", geeks_url))\n",
    "\n",
    "    # Handling unknown commands\n",
    "    app.add_handler(MessageHandler(filters.COMMAND, unknown))\n",
    "\n",
    "    # Handling unknown messages (text)\n",
    "    app.add_handler(MessageHandler(filters.TEXT & ~filters.COMMAND, unknown_text))\n",
    "\n",
    "    print(\"Bot is running...\")\n",
    "    await app.run_polling()\n",
    "\n",
    "if __name__ == \"__main__\":\n",
    "    import asyncio\n",
    "    try:\n",
    "        loop = asyncio.get_running_loop()\n",
    "        loop.create_task(main())  # Runs the bot in the background if already in an event loop\n",
    "    except RuntimeError:\n",
    "        asyncio.run(main())  # Runs normally if no event loop is active\n"
   ]
  },
  {
   "cell_type": "code",
   "execution_count": 25,
   "metadata": {},
   "outputs": [
    {
     "data": {
      "text/plain": [
       "<Task pending name='Task-13' coro=<main() running at C:\\Users\\hp\\AppData\\Local\\Temp\\ipykernel_5720\\1847510089.py:14>>"
      ]
     },
     "execution_count": 25,
     "metadata": {},
     "output_type": "execute_result"
    },
    {
     "name": "stderr",
     "output_type": "stream",
     "text": [
      "2025-03-08 00:58:00,652 - httpx - INFO - HTTP Request: POST https://api.telegram.org/bot7887907165:AAHDgf2DcXuVYdoDGUT1fOcEVH-XhoEp5ss/getMe \"HTTP/1.1 200 OK\"\n",
      "2025-03-08 00:58:00,811 - httpx - INFO - HTTP Request: POST https://api.telegram.org/bot7887907165:AAHDgf2DcXuVYdoDGUT1fOcEVH-XhoEp5ss/deleteWebhook \"HTTP/1.1 200 OK\"\n",
      "2025-03-08 00:58:00,813 - telegram.ext.Application - INFO - Application started\n",
      "2025-03-08 00:58:11,422 - httpx - INFO - HTTP Request: POST https://api.telegram.org/bot7887907165:AAHDgf2DcXuVYdoDGUT1fOcEVH-XhoEp5ss/getUpdates \"HTTP/1.1 200 OK\"\n",
      "2025-03-08 00:58:21,644 - httpx - INFO - HTTP Request: POST https://api.telegram.org/bot7887907165:AAHDgf2DcXuVYdoDGUT1fOcEVH-XhoEp5ss/getUpdates \"HTTP/1.1 200 OK\"\n",
      "2025-03-08 00:58:31,884 - httpx - INFO - HTTP Request: POST https://api.telegram.org/bot7887907165:AAHDgf2DcXuVYdoDGUT1fOcEVH-XhoEp5ss/getUpdates \"HTTP/1.1 200 OK\"\n",
      "2025-03-08 00:58:42,125 - httpx - INFO - HTTP Request: POST https://api.telegram.org/bot7887907165:AAHDgf2DcXuVYdoDGUT1fOcEVH-XhoEp5ss/getUpdates \"HTTP/1.1 200 OK\"\n",
      "2025-03-08 00:58:52,365 - httpx - INFO - HTTP Request: POST https://api.telegram.org/bot7887907165:AAHDgf2DcXuVYdoDGUT1fOcEVH-XhoEp5ss/getUpdates \"HTTP/1.1 200 OK\"\n",
      "2025-03-08 00:59:00,463 - httpx - INFO - HTTP Request: POST https://api.telegram.org/bot7887907165:AAHDgf2DcXuVYdoDGUT1fOcEVH-XhoEp5ss/getUpdates \"HTTP/1.1 200 OK\"\n",
      "2025-03-08 00:59:10,693 - httpx - INFO - HTTP Request: POST https://api.telegram.org/bot7887907165:AAHDgf2DcXuVYdoDGUT1fOcEVH-XhoEp5ss/getUpdates \"HTTP/1.1 200 OK\"\n",
      "2025-03-08 00:59:20,934 - httpx - INFO - HTTP Request: POST https://api.telegram.org/bot7887907165:AAHDgf2DcXuVYdoDGUT1fOcEVH-XhoEp5ss/getUpdates \"HTTP/1.1 200 OK\"\n",
      "2025-03-08 00:59:31,176 - httpx - INFO - HTTP Request: POST https://api.telegram.org/bot7887907165:AAHDgf2DcXuVYdoDGUT1fOcEVH-XhoEp5ss/getUpdates \"HTTP/1.1 200 OK\"\n",
      "2025-03-08 00:59:41,413 - httpx - INFO - HTTP Request: POST https://api.telegram.org/bot7887907165:AAHDgf2DcXuVYdoDGUT1fOcEVH-XhoEp5ss/getUpdates \"HTTP/1.1 200 OK\"\n",
      "2025-03-08 00:59:51,654 - httpx - INFO - HTTP Request: POST https://api.telegram.org/bot7887907165:AAHDgf2DcXuVYdoDGUT1fOcEVH-XhoEp5ss/getUpdates \"HTTP/1.1 200 OK\"\n"
     ]
    }
   ],
   "source": [
    "import nest_asyncio\n",
    "import asyncio\n",
    "from telegram.ext import ApplicationBuilder\n",
    "\n",
    "TOKEN = \"7887907165:AAHDgf2DcXuVYdoDGUT1fOcEVH-XhoEp5ss\"\n",
    "\n",
    "# Fix event loop issues inside Jupyter Notebook\n",
    "nest_asyncio.apply()\n",
    "\n",
    "# Create bot application\n",
    "app = ApplicationBuilder().token(TOKEN).build()\n",
    "\n",
    "# Start bot polling without conflicts\n",
    "async def main():\n",
    "    await app.run_polling()\n",
    "\n",
    "asyncio.create_task(main())  # ✅ Works without errors inside Jupyter!\n"
   ]
  }
 ],
 "metadata": {
  "kernelspec": {
   "display_name": "base",
   "language": "python",
   "name": "python3"
  },
  "language_info": {
   "codemirror_mode": {
    "name": "ipython",
    "version": 3
   },
   "file_extension": ".py",
   "mimetype": "text/x-python",
   "name": "python",
   "nbconvert_exporter": "python",
   "pygments_lexer": "ipython3",
   "version": "3.12.3"
  }
 },
 "nbformat": 4,
 "nbformat_minor": 2
}
